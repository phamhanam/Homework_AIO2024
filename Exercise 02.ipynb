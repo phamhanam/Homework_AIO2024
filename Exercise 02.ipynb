{
 "cells": [
  {
   "cell_type": "markdown",
   "id": "43de22b4-6228-4f54-aaa3-b090be74aa77",
   "metadata": {},
   "source": [
    "## Library"
   ]
  },
  {
   "cell_type": "code",
   "execution_count": 138,
   "id": "48bf20cb-9b3c-499c-9a9b-b2657022107f",
   "metadata": {},
   "outputs": [],
   "source": [
    "import numpy as np\n",
    "import matplotlib.pyplot as plt\n",
    "import random"
   ]
  },
  {
   "cell_type": "markdown",
   "id": "30ebb8e9-435f-49e1-8028-fabec0b13c90",
   "metadata": {},
   "source": [
    "# Data preparation"
   ]
  },
  {
   "cell_type": "code",
   "execution_count": 140,
   "id": "86a9c77f-e826-4256-8541-dcf5352b9e63",
   "metadata": {},
   "outputs": [],
   "source": [
    "def get_column(data, index):\n",
    "    result = [row[index] for row in data]\n",
    "    return result\n",
    "\n",
    "def prepare_data(file_name_dataset):\n",
    "    data = np.genfromtxt(file_name_dataset, delimiter=',', skip_header=1).tolist()\n",
    "    N = len(data)\n",
    "\n",
    "    # get tv (index=0)\n",
    "    tv_data = get_column(data, 0)\n",
    "\n",
    "    # get radio (index=0)\n",
    "    radio_data = get_column(data, 1)\n",
    "\n",
    "    # get newspaper (index=0)\n",
    "    newspaper_data = get_column(data, 2)\n",
    "\n",
    "    # get sales (index=0)\n",
    "    sales_data = get_column(data, 3)\n",
    "\n",
    "    # building X input and y output for training\n",
    "    X = [tv_data, radio_data, newspaper_data]\n",
    "    y = sales_data\n",
    "    return X , y"
   ]
  },
  {
   "cell_type": "code",
   "execution_count": 142,
   "id": "a2d6fe43-22a4-49ab-98b8-4e06e1c4b9a3",
   "metadata": {},
   "outputs": [],
   "source": [
    "X, y = prepare_data(\"advertising.csv\")"
   ]
  },
  {
   "cell_type": "markdown",
   "id": "1ea26c92-4bf0-451a-885f-bcb533d00410",
   "metadata": {},
   "source": [
    "# Linear regression"
   ]
  },
  {
   "cell_type": "markdown",
   "id": "bf8a09ef-3445-4051-bbbd-afd9de25ae24",
   "metadata": {},
   "source": [
    "MSE = L = (y_hat - y)**2"
   ]
  },
  {
   "cell_type": "markdown",
   "id": "e0331d6e-383d-44f7-b490-d7fbb63b03a8",
   "metadata": {},
   "source": [
    "### 2.1. Hoàn thành function initialize_params() để khởi tạo ngẫu nhiên giá trị ban đầu cho w1, w2, \n",
    "w3 theo gaussian random.gauss(mu=0.0, sigma=0.01) v  b = 0."
   ]
  },
  {
   "cell_type": "code",
   "execution_count": 147,
   "id": "6816f58c-d21c-463b-8eea-f16ae659b108",
   "metadata": {},
   "outputs": [],
   "source": [
    "def initialize_params_normal():\n",
    "    w1 = random.gauss(mu=0, sigma=0.01)\n",
    "    w2 = random.gauss(mu=0, sigma=0.01)\n",
    "    w3 = random.gauss(mu=0, sigma=0.01)\n",
    "    b = 0\n",
    "    return w1, w2, w3, b\n",
    "\n",
    "def initialize_params():\n",
    "    w1 , w2 , w3 , b = (0.016992259082509283 , 0.0070783670518262355 , -0.002307860847821344 , 0)\n",
    "    return w1, w2, w3, b "
   ]
  },
  {
   "cell_type": "markdown",
   "id": "5438a9e5-8451-435e-9beb-e27e0af63ce7",
   "metadata": {},
   "source": [
    "### 2.2. Hoàn thành function predict(x1, x2, x3, w1, w2, w3, b) để trả về kết quả dự đoán y tương \n",
    "ứn.g"
   ]
  },
  {
   "cell_type": "code",
   "execution_count": 150,
   "id": "4ec92dde-b561-466a-8a8c-348cf2a5f946",
   "metadata": {},
   "outputs": [],
   "source": [
    "def predict(x1, x2, x3, w1, w2, w3, b):\n",
    "    result = w1*x1 + w2*x2 + w3*x3 + b\n",
    "    return result"
   ]
  },
  {
   "cell_type": "code",
   "execution_count": 84,
   "id": "6b94dae3-257a-4a1a-8902-2a011a560198",
   "metadata": {},
   "outputs": [
    {
     "name": "stdout",
     "output_type": "stream",
     "text": [
      "1.0\n"
     ]
    }
   ],
   "source": [
    "y = predict(x1=1, x2=1, x3=1, w1=0, w2=0.5 , w3=0, b=0.5)\n",
    "print(y)"
   ]
  },
  {
   "cell_type": "markdown",
   "id": "78bb9b27-3c25-44b5-9ecf-712377878e9d",
   "metadata": {},
   "source": [
    "Q2: a) 1.0"
   ]
  },
  {
   "cell_type": "markdown",
   "id": "b0c920df-8523-429e-9359-7473067d5b48",
   "metadata": {},
   "source": [
    "### 2.3 Hoàn thành function compute_loss(y_hat, y) để tính loss giữa kết quả dự đoán y_hat và giá trị thực y, sử dụng Mean Squared Error"
   ]
  },
  {
   "cell_type": "code",
   "execution_count": 88,
   "id": "45915bd0-38ba-4869-96cc-2023c7c9e14a",
   "metadata": {},
   "outputs": [],
   "source": [
    "def compute_loss_mse(y_hat, y):\n",
    "    loss = (y_hat - y)**2\n",
    "    return loss"
   ]
  },
  {
   "cell_type": "code",
   "execution_count": 90,
   "id": "a234f4a8-97a4-42e7-9e9c-671d41afbb45",
   "metadata": {},
   "outputs": [
    {
     "name": "stdout",
     "output_type": "stream",
     "text": [
      "0.25\n"
     ]
    }
   ],
   "source": [
    "l = compute_loss_mse(y_hat=1, y=0.5)\n",
    "print(l)"
   ]
  },
  {
   "cell_type": "markdown",
   "id": "c2f8981e-31db-4d9d-b490-ba6ee14bbbc7",
   "metadata": {},
   "source": [
    "Q3: a) 0.25"
   ]
  },
  {
   "cell_type": "markdown",
   "id": "1c49b774-f4d3-4fb4-a851-ae627802ca08",
   "metadata": {},
   "source": [
    "### 2.4 Hoàn thành function compute_gradient_wi(xi, y, y_hat)) để tính đạo hàm của hàm loss L = (y_hat − y)**2 theo wi và function compute_gradient_b(y, y_hat) để tính đạo hàm của hàm loss L = (ˆy − y)2 theo b."
   ]
  },
  {
   "cell_type": "code",
   "execution_count": 94,
   "id": "dcb61198-a10a-40d1-897a-fbd598c2c39a",
   "metadata": {},
   "outputs": [],
   "source": [
    "def compute_gradient_wi(xi, y, y_hat):\n",
    "    dl_dwi = 2*xi*(y_hat - y)\n",
    "    return dl_dwi\n",
    "\n",
    "def compute_gradient_b(y, y_hat):\n",
    "    dl_db = 2 * (y_hat - y)\n",
    "    return dl_db "
   ]
  },
  {
   "cell_type": "code",
   "execution_count": 96,
   "id": "950184e7-a1e7-4433-87d8-8bdad347204d",
   "metadata": {},
   "outputs": [
    {
     "name": "stdout",
     "output_type": "stream",
     "text": [
      "-1.0\n"
     ]
    }
   ],
   "source": [
    "# MSE loss\n",
    "g_wi = compute_gradient_wi(xi=1.0, y=1.0, y_hat=0.5)\n",
    "print(g_wi)"
   ]
  },
  {
   "cell_type": "markdown",
   "id": "9ad5bed0-2104-486a-ab07-4b8177ab91b2",
   "metadata": {},
   "source": [
    "Q4: a) -1.0"
   ]
  },
  {
   "cell_type": "code",
   "execution_count": 99,
   "id": "10c104e1-60d2-45a3-b8db-ee9ba11b74d3",
   "metadata": {},
   "outputs": [
    {
     "name": "stdout",
     "output_type": "stream",
     "text": [
      "-3.0\n"
     ]
    }
   ],
   "source": [
    "g_b = compute_gradient_b(y=2.0, y_hat=0.5)\n",
    "print(g_b)"
   ]
  },
  {
   "cell_type": "markdown",
   "id": "7dde6dc7-45e4-4696-a397-751a3dcf6552",
   "metadata": {},
   "source": [
    "Q5: b) -3.0"
   ]
  },
  {
   "cell_type": "markdown",
   "id": "3666c18f-b9cc-4de4-bc5f-daf63afc8d14",
   "metadata": {},
   "source": [
    "### 2.5 Hoàn thành function update_weight_wi(wi, dl_dwi, lr) để cập nhật wi sau khi tính đạo làm hàm loss L theo wi, và function update_weight_b(b, dl_db, lr) để update bias (b) sau khi tính đạo làm hàm loss L theo b."
   ]
  },
  {
   "cell_type": "code",
   "execution_count": 103,
   "id": "7844bf53-7a11-402b-9a8a-46e2c38cc66a",
   "metadata": {},
   "outputs": [],
   "source": [
    "def update_weight_wi(wi, dl_dwi, lr):\n",
    "    wi = wi - lr * dl_dwi\n",
    "    return wi \n",
    "    \n",
    "def update_weight_b(b, dl_db, lr):\n",
    "    b = b - lr * dl_db\n",
    "    return b "
   ]
  },
  {
   "cell_type": "code",
   "execution_count": 105,
   "id": "637eadad-5295-4f84-987c-72f4028c311a",
   "metadata": {},
   "outputs": [
    {
     "name": "stdout",
     "output_type": "stream",
     "text": [
      "1.000005\n"
     ]
    }
   ],
   "source": [
    "after_wi = update_weight_wi(wi=1.0, dl_dwi=-0.5, lr=1e-5)\n",
    "print(after_wi)"
   ]
  },
  {
   "cell_type": "markdown",
   "id": "097463c6-c436-472c-923d-8b31da96bc94",
   "metadata": {},
   "source": [
    "Q6: a) 1.000005"
   ]
  },
  {
   "cell_type": "code",
   "execution_count": 108,
   "id": "cf3c2526-7c9f-46fd-a02c-e899d4830fa1",
   "metadata": {},
   "outputs": [
    {
     "name": "stdout",
     "output_type": "stream",
     "text": [
      "0.50001\n",
      "1.000005\n"
     ]
    }
   ],
   "source": [
    "after_b = update_weight_b(b=0.5, dl_db=-1.0, lr=1e-5)\n",
    "print(after_b)\n",
    "print(after_wi)"
   ]
  },
  {
   "cell_type": "markdown",
   "id": "204b46a2-8bf0-4866-b2af-777eba383406",
   "metadata": {},
   "source": [
    "Q7: a) 0.50001"
   ]
  },
  {
   "cell_type": "markdown",
   "id": "cc8cda19-674b-4146-aa97-7b132a48749b",
   "metadata": {},
   "source": [
    "### 2.6 Thực hiện huấn luyện data bằng cách gọi hàm implement_linear_regression(X, y) và vẽ đồ thị kết quả cho 100 giá trị loss đầu tiên (loss cho 100 lần cập nhật đầu tiên) như bên hình 3."
   ]
  },
  {
   "cell_type": "code",
   "execution_count": 118,
   "id": "b40eadf9-a8f5-4c05-a488-94edf9731998",
   "metadata": {},
   "outputs": [],
   "source": [
    "def implement_linear_regression(X_data, y_data, epoch_max = 50, lr = 1e-5):\n",
    "    losses = []\n",
    "\n",
    "    w1, w2, w3, b = initialize_params()\n",
    "\n",
    "    N = len(y_data)\n",
    "    for epoch in range(epoch_max):\n",
    "        for i in range(N):\n",
    "            x1 = X_data[0][i]\n",
    "            x2 = X_data[1][i]\n",
    "            x3 = X_data[2][i]\n",
    "\n",
    "            y = y_data[i]\n",
    "\n",
    "            # compute output\n",
    "            y_hat = predict(x1, x2, x3, w1, w2, w3, b)\n",
    "\n",
    "            # compute loss\n",
    "            loss = compute_loss_mse(y, y_hat)\n",
    "\n",
    "            # compute gradient w1, w2, w3, b\n",
    "            dl_dw1 = compute_gradient_wi(x1, y, y_hat)\n",
    "            dl_dw2 = compute_gradient_wi(x2, y, y_hat)\n",
    "            dl_dw3 = compute_gradient_wi(x3, y, y_hat)\n",
    "            dl_db = compute_gradient_b(y, y_hat)\n",
    "\n",
    "            # update parameters\n",
    "            w1 = update_weight_wi(w1, dl_dw1, lr)\n",
    "            w2 = update_weight_wi(w2, dl_dw2, lr)\n",
    "            w3 = update_weight_wi(w3, dl_dw3, lr)\n",
    "            b = update_weight_b(b, dl_db, lr)\n",
    "\n",
    "            # logging\n",
    "            losses.append(loss)\n",
    "\n",
    "    return (w1, w2, w3, b, losses)"
   ]
  },
  {
   "cell_type": "code",
   "execution_count": 154,
   "id": "7bdc880d-cdb6-4472-97d1-25e838fa24d0",
   "metadata": {},
   "outputs": [],
   "source": [
    "X, y = prepare_data(\"advertising.csv\")\n",
    "(w1, w2, w3, b, losses) = implement_linear_regression(X, y)"
   ]
  },
  {
   "cell_type": "code",
   "execution_count": 156,
   "id": "a93edaf9-4672-43fc-9d16-f7d929c52349",
   "metadata": {},
   "outputs": [],
   "source": [
    "def visualize_loss(losses):  \n",
    "    plt.plot(losses[:100])\n",
    "    plt.xlabel(\"#iteration\")\n",
    "    plt.ylabel(\"Loss\")\n",
    "    plt.show()"
   ]
  },
  {
   "cell_type": "code",
   "execution_count": 158,
   "id": "d386364f-d72e-4d53-83c6-a6be153bf83b",
   "metadata": {},
   "outputs": [
    {
     "data": {
      "image/png": "[encoded data removed]",
      "text/plain": [
       "<Figure size 640x480 with 1 Axes>"
      ]
     },
     "metadata": {},
     "output_type": "display_data"
    }
   ],
   "source": [
    "visualize_loss(losses)"
   ]
  },
  {
   "cell_type": "code",
   "execution_count": 160,
   "id": "c8459234-fd73-4c3d-b41d-4906d95fd7c5",
   "metadata": {},
   "outputs": [
    {
     "name": "stdout",
     "output_type": "stream",
     "text": [
      "0.07405984066396477 0.15917360263437663 0.017561197559948935\n"
     ]
    }
   ],
   "source": [
    "print (w1 , w2 , w3)"
   ]
  },
  {
   "cell_type": "markdown",
   "id": "6affcb81-0d53-4b06-ae7d-b9879be12817",
   "metadata": {},
   "source": [
    "Q8: a) w1 = 0.074 , w2 = 0.15 , w3 = 0.17"
   ]
  },
  {
   "cell_type": "code",
   "execution_count": 163,
   "id": "323e2a27-3289-4879-a5df-c1a7a004db06",
   "metadata": {},
   "outputs": [],
   "source": [
    "tv = 19.2\n",
    "radio = 35.9\n",
    "newspaper = 51.3"
   ]
  },
  {
   "cell_type": "code",
   "execution_count": 165,
   "id": "df5ef37a-0d4d-46e9-abb9-acbf1ae1c7d0",
   "metadata": {},
   "outputs": [],
   "source": [
    "X, y = prepare_data(\"advertising.csv\")\n",
    "(w1, w2, w3, b, losses) = implement_linear_regression(X, y, epoch_max=50 , lr=1e-5)\n",
    "sales = predict(tv, radio, newspaper, w1, w2, w3, b)"
   ]
  },
  {
   "cell_type": "code",
   "execution_count": 167,
   "id": "7cc08927-e7d7-48c5-9f7c-4fef749d1468",
   "metadata": {},
   "outputs": [
    {
     "name": "stdout",
     "output_type": "stream",
     "text": [
      "Predicted sales: 8.176413319549823\n"
     ]
    }
   ],
   "source": [
    "print(f\"Predicted sales: {sales}\")"
   ]
  },
  {
   "cell_type": "markdown",
   "id": "dc5a39c5-fc02-4e92-a10c-15e098a4f991",
   "metadata": {},
   "source": [
    "Q9: b) predicted sales is 8.18"
   ]
  },
  {
   "cell_type": "markdown",
   "id": "5d94363a-b96f-4036-a7a3-4ebe90228d17",
   "metadata": {},
   "source": [
    "### 2.7 Thực hiện huấn luyện data bằng cách thay thế hàm loss L = (ˆy − y)2 bằng hàm loss MAE L = |yˆ − y| và vẽ đồ thị kết quả hàm loss trong 100 interation đầu tiên như bên hình 4."
   ]
  },
  {
   "cell_type": "code",
   "execution_count": 171,
   "id": "7c28af20-0136-442a-8ac0-cbd9d1072561",
   "metadata": {},
   "outputs": [],
   "source": [
    "def compute_loss_mae(y, y_hat):\n",
    "    return np.abs(y_hat - y)\n",
    "\n",
    "def compute_gradient_wi_mae(xi, y, y_hat):\n",
    "    dl_dwi = np.sign(y_hat - y) * xi\n",
    "    return dl_dwi\n",
    "\n",
    "def compute_gradient_b_mae(y, y_hat):\n",
    "    dl_db = np.sign(y_hat - y)\n",
    "    return dl_db\n",
    "\n",
    "def update_weight_wi_mae(w, dl_dw, lr):\n",
    "    wi = w - lr * dl_dw \n",
    "    return wi \n",
    "    \n",
    "def update_weight_b_mae(b, dl_db, lr):\n",
    "    b = b - lr * dl_db\n",
    "    return b "
   ]
  },
  {
   "cell_type": "code",
   "execution_count": 173,
   "id": "1c2132a6-2a29-4c8d-ad2e-187746ed9db1",
   "metadata": {},
   "outputs": [],
   "source": [
    "def implement_linear_regression_MAE(X_data, y_data, epoch_max=50, lr=1e-5):\n",
    "    losses = []\n",
    "    \n",
    "    w1, w2, w3, b = initialize_params()\n",
    "    \n",
    "    N = len(y_data)\n",
    "    \n",
    "    for epoch in range(epoch_max):\n",
    "        for i in range(N):\n",
    "            x1 = X_data[0][i]\n",
    "            x2 = X_data[1][i]\n",
    "            x3 = X_data[2][i]\n",
    "            \n",
    "            y_hat = predict(x1, x2, x3, w1, w2, w3, b)\n",
    "            y = y_data[i]\n",
    "            \n",
    "            # MAE Loss\n",
    "            loss = compute_loss_mae(y, y_hat)\n",
    "            \n",
    "            dl_dw1 = compute_gradient_wi_mae(x1, y, y_hat)\n",
    "            dl_dw2 = compute_gradient_wi_mae(x2, y, y_hat)\n",
    "            dl_dw3 = compute_gradient_wi_mae(x3, y, y_hat)\n",
    "            dl_db = compute_gradient_b_mae(y, y_hat)\n",
    "            \n",
    "            w1 = update_weight_wi_mae(w1, dl_dw1, lr)\n",
    "            w2 = update_weight_wi_mae(w2, dl_dw2, lr)\n",
    "            w3 = update_weight_wi_mae(w3, dl_dw3, lr)       \n",
    "            b = update_weight_b_mae(b, dl_db, lr)\n",
    "            \n",
    "            losses.append(loss)\n",
    "            \n",
    "    return (w1, w2, w3, b, losses)"
   ]
  },
  {
   "cell_type": "code",
   "execution_count": 175,
   "id": "a9927c6a-933f-450a-85fe-a403fa59c3c3",
   "metadata": {},
   "outputs": [],
   "source": [
    "(w1, w2, w3, b, losses) = implement_linear_regression_MAE(X, y)"
   ]
  },
  {
   "cell_type": "code",
   "execution_count": 177,
   "id": "a891d2ca-2e4f-45c2-8175-e7fbfb930ca2",
   "metadata": {},
   "outputs": [
    {
     "data": {
      "image/png": "[encoded data removed]",
      "text/plain": [
       "<Figure size 640x480 with 1 Axes>"
      ]
     },
     "metadata": {},
     "output_type": "display_data"
    }
   ],
   "source": [
    "visualize_loss(losses)"
   ]
  },
  {
   "cell_type": "code",
   "execution_count": 181,
   "id": "69b1b783-0509-47fd-a85f-bb0c39ed0fd4",
   "metadata": {},
   "outputs": [
    {
     "name": "stdout",
     "output_type": "stream",
     "text": [
      "0.5\n"
     ]
    }
   ],
   "source": [
    "l = compute_loss_mae(y_hat=1, y=0.5)\n",
    "print (l)"
   ]
  },
  {
   "cell_type": "markdown",
   "id": "c082efb0-e988-4fcd-9479-b2d7778b7663",
   "metadata": {},
   "source": [
    "Q10: a) 0.5"
   ]
  }
 ],
 "metadata": {
  "kernelspec": {
   "display_name": "Python 3 (ipykernel)",
   "language": "python",
   "name": "python3"
  },
  "language_info": {
   "codemirror_mode": {
    "name": "ipython",
    "version": 3
   },
   "file_extension": ".py",
   "mimetype": "text/x-python",
   "name": "python",
   "nbconvert_exporter": "python",
   "pygments_lexer": "ipython3",
   "version": "3.12.4"
  }
 },
 "nbformat": 4,
 "nbformat_minor": 5
}
