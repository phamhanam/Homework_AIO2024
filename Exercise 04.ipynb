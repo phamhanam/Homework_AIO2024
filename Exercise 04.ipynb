{
 "cells": [
  {
   "cell_type": "markdown",
   "id": "231852ec-6e88-479d-86ce-94011ba45334",
   "metadata": {},
   "source": [
    "# Library"
   ]
  },
  {
   "cell_type": "code",
   "execution_count": 22,
   "id": "0423d235-1df3-4b41-968f-c4df751ece91",
   "metadata": {},
   "outputs": [],
   "source": [
    "import numpy as np\n",
    "import matplotlib.pyplot as plt\n",
    "import random"
   ]
  },
  {
   "cell_type": "markdown",
   "id": "b1627c8b-16df-403f-b57b-ea51e9e5ad40",
   "metadata": {},
   "source": [
    "# Data preparation"
   ]
  },
  {
   "cell_type": "code",
   "execution_count": 25,
   "id": "7e111d4b-c995-414c-af31-e9043fa711a8",
   "metadata": {},
   "outputs": [],
   "source": [
    "def get_column(data, index):\n",
    "    result = [row[index] for row in data]\n",
    "    return result\n",
    "\n",
    "def prepare_data(file_name_dataset):\n",
    "    data = np.genfromtxt(file_name_dataset, delimiter=',', skip_header=1).tolist()\n",
    "    N = len(data)\n",
    "\n",
    "    # get tv (index=0)\n",
    "    tv_data = get_column(data, 0)\n",
    "\n",
    "    # get radio (index=0)\n",
    "    radio_data = get_column(data, 1)\n",
    "\n",
    "    # get newspaper (index=0)\n",
    "    newspaper_data = get_column(data, 2)\n",
    "\n",
    "    # get sales (index=0)\n",
    "    sales_data = get_column(data, 3)\n",
    "\n",
    "    # building X input and y output for training\n",
    "    X = [[1, x1, x2, x3] for x1, x2, x3 in zip(tv_data, radio_data, newspaper_data)]\n",
    "    y = sales_data\n",
    "    return X , y"
   ]
  },
  {
   "cell_type": "code",
   "execution_count": 27,
   "id": "2355d46e-fb85-42be-b633-564d0b482ace",
   "metadata": {},
   "outputs": [],
   "source": [
    "X, y = prepare_data(\"advertising.csv\")"
   ]
  },
  {
   "cell_type": "code",
   "execution_count": 29,
   "id": "faab76a9-c8a8-4dd8-917d-30e7fa720edb",
   "metadata": {},
   "outputs": [],
   "source": [
    "def initialize_params():\n",
    "    bias = 0\n",
    "    w1 = random.gauss(mu=0, sigma=0.01)\n",
    "    w2 = random.gauss(mu=0, sigma=0.01)\n",
    "    w3 = random.gauss(mu=0, sigma=0.01)\n",
    "    \n",
    "    return [0, -0.01268850433497871 , 0.004752496982185252 , 0.0073796171538643845]\n",
    "    # return (bias, w1, w2, w3)"
   ]
  },
  {
   "cell_type": "code",
   "execution_count": 31,
   "id": "6272f00c-2ba3-4563-ad32-d83e3dbe889a",
   "metadata": {},
   "outputs": [],
   "source": [
    "def predict(X_features, weights):\n",
    "    result = 0\n",
    "    for x, w in zip(X_features, weights):\n",
    "        result += x*w\n",
    "    return result\n",
    "\n",
    "def compute_loss(y_hat, y):\n",
    "    return (y_hat - y) ** 2\n",
    "\n",
    "def compute_gradient_w(X_features, y, y_hat):\n",
    "    dl_dweights = []\n",
    "    for x in X_features:\n",
    "        dl_dw = 2*x*(y_hat - y)\n",
    "        dl_dweights.append(dl_dw)\n",
    "    return dl_dweights\n",
    "\n",
    "def update_weights(weights, dl_dweights, lr):\n",
    "    for i in range(len(weights)):\n",
    "        weights[i] -= lr*dl_dweights[i]\n",
    "    return weights"
   ]
  },
  {
   "cell_type": "code",
   "execution_count": 33,
   "id": "229d7215-c91c-4344-9c43-c194395e03d8",
   "metadata": {},
   "outputs": [],
   "source": [
    "def implement_linear_regression(X_feature, y_output, epoch_max=50, lr=1e-5):\n",
    "    losses = []\n",
    "    weights = initialize_params()\n",
    "    N = len(y_output)\n",
    "    \n",
    "    for epoch in range(epoch_max):\n",
    "        total_loss = 0\n",
    "        for i in range(N):\n",
    "            features_i = X_feature[i]\n",
    "            y = y_output[i]\n",
    "            \n",
    "            y_hat = predict(features_i, weights)\n",
    "            \n",
    "            loss = compute_loss(y, y_hat)\n",
    "            total_loss += loss\n",
    "            \n",
    "            dl_dweights = compute_gradient_w(features_i, y, y_hat)\n",
    "            \n",
    "            weights = update_weights(weights, dl_dweights, lr)\n",
    "            \n",
    "            losses.append(loss)\n",
    "        \n",
    "        if ((epoch + 1) % 1000 == 0):\n",
    "            print(f\"Epoch: {epoch + 1}, Loss: {total_loss / N}\")\n",
    "        \n",
    "    return weights, losses"
   ]
  },
  {
   "cell_type": "code",
   "execution_count": 35,
   "id": "937cd6bf-f893-460a-98bd-3197c8956e8d",
   "metadata": {},
   "outputs": [
    {
     "name": "stdout",
     "output_type": "stream",
     "text": [
      "Epoch: 1000, Loss: 6.194930093625081\n",
      "Epoch: 2000, Loss: 5.344875980962622\n",
      "Epoch: 3000, Loss: 5.1496145494667225\n",
      "Epoch: 4000, Loss: 5.127325188355508\n",
      "Epoch: 5000, Loss: 5.141792463684308\n"
     ]
    }
   ],
   "source": [
    "X, y = prepare_data(\"advertising.csv\")\n",
    "W, L = implement_linear_regression(X, y, epoch_max=5000, lr=1e-5)"
   ]
  },
  {
   "cell_type": "code",
   "execution_count": 37,
   "id": "344bf664-69b5-4995-8b7a-a59bf43888ff",
   "metadata": {},
   "outputs": [],
   "source": [
    "def visualize_linear_regression(losses):\n",
    "    plt.plot(losses[0:100])\n",
    "    plt.xlabel(\"#iteration\")\n",
    "    plt.ylabel(\"Loss\")\n",
    "    plt.show()"
   ]
  },
  {
   "cell_type": "code",
   "execution_count": 39,
   "id": "ff952c3e-ffc7-43ea-9933-013d771e51e3",
   "metadata": {},
   "outputs": [
    {
     "data": {
      "image/png": "[encoded data removed]",
      "text/plain": [
       "<Figure size 640x480 with 1 Axes>"
      ]
     },
     "metadata": {},
     "output_type": "display_data"
    }
   ],
   "source": [
    "visualize_linear_regression(L)"
   ]
  },
  {
   "cell_type": "code",
   "execution_count": 41,
   "id": "8e4f4951-af00-4a26-a8f2-6e1ae316b965",
   "metadata": {},
   "outputs": [
    {
     "name": "stdout",
     "output_type": "stream",
     "text": [
      "31.339223408109948\n"
     ]
    }
   ],
   "source": [
    "print(L[9999])"
   ]
  },
  {
   "cell_type": "markdown",
   "id": "477f3268-5282-45e3-856b-6ed558f9f60b",
   "metadata": {},
   "source": [
    "Q12: a) 31.33"
   ]
  }
 ],
 "metadata": {
  "kernelspec": {
   "display_name": "Python 3 (ipykernel)",
   "language": "python",
   "name": "python3"
  },
  "language_info": {
   "codemirror_mode": {
    "name": "ipython",
    "version": 3
   },
   "file_extension": ".py",
   "mimetype": "text/x-python",
   "name": "python",
   "nbconvert_exporter": "python",
   "pygments_lexer": "ipython3",
   "version": "3.12.4"
  }
 },
 "nbformat": 4,
 "nbformat_minor": 5
}
