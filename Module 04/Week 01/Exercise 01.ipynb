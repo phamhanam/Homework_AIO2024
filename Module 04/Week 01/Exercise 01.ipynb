{
 "cells": [
  {
   "cell_type": "markdown",
   "id": "7be116bd-c055-4c3b-bac4-28ba0616a987",
   "metadata": {},
   "source": [
    "# Library"
   ]
  },
  {
   "cell_type": "code",
   "execution_count": 3,
   "id": "54498c88-2e9e-4c64-abd2-23a5eeb40b86",
   "metadata": {},
   "outputs": [],
   "source": [
    "import numpy as np\n",
    "import matplotlib.pyplot as plt\n",
    "import random"
   ]
  },
  {
   "cell_type": "code",
   "execution_count": 5,
   "id": "790d6196-d3fb-4dfd-9089-d0822edaeea0",
   "metadata": {},
   "outputs": [],
   "source": [
    "def get_column(data, index):\n",
    "    result = [row[index] for row in data]\n",
    "    return result"
   ]
  },
  {
   "cell_type": "code",
   "execution_count": 7,
   "id": "280ea8a1-7368-41e2-871c-a0ec70326bec",
   "metadata": {},
   "outputs": [],
   "source": [
    "def prepare_data(file_name_dataset):\n",
    "    data = np.genfromtxt(file_name_dataset, delimiter=',', skip_header=1).tolist()\n",
    "    N = len(data)\n",
    "\n",
    "    # get tv (index=0)\n",
    "    tv_data = get_column(data, 0)\n",
    "\n",
    "    # get radio (index=0)\n",
    "    radio_data = get_column(data, 1)\n",
    "\n",
    "    # get newspaper (index=0)\n",
    "    newspaper_data = get_column(data, 2)\n",
    "\n",
    "    # get sales (index=0)\n",
    "    sales_data = get_column(data, 3)\n",
    "\n",
    "    # building X input and y output for training\n",
    "    X = [tv_data, radio_data, newspaper_data]\n",
    "    y = sales_data\n",
    "    return X , y"
   ]
  },
  {
   "cell_type": "code",
   "execution_count": 9,
   "id": "01393ee3-c838-4f9d-a9d8-da9f23f2eb91",
   "metadata": {},
   "outputs": [
    {
     "name": "stdout",
     "output_type": "stream",
     "text": [
      "[624.1, 175.1, 300.5, 78.9]\n"
     ]
    }
   ],
   "source": [
    "X, y = prepare_data(\"advertising.csv\")\n",
    "list = [sum(X[0][:5]), sum(X[1][:5]), sum(X[2][:5]), sum(y[:5])]\n",
    "print(list)"
   ]
  },
  {
   "cell_type": "markdown",
   "id": "26d565be-c700-4f46-9a78-d1f041d45cfc",
   "metadata": {},
   "source": [
    "Q1: a) [624.1 , 175.1 , 300.5 , 78.9]"
   ]
  }
 ],
 "metadata": {
  "kernelspec": {
   "display_name": "Python 3 (ipykernel)",
   "language": "python",
   "name": "python3"
  },
  "language_info": {
   "codemirror_mode": {
    "name": "ipython",
    "version": 3
   },
   "file_extension": ".py",
   "mimetype": "text/x-python",
   "name": "python",
   "nbconvert_exporter": "python",
   "pygments_lexer": "ipython3",
   "version": "3.12.4"
  }
 },
 "nbformat": 4,
 "nbformat_minor": 5
}
