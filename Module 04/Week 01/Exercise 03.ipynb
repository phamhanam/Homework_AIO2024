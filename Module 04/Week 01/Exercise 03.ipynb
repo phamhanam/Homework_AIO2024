{
 "cells": [
  {
   "cell_type": "markdown",
   "id": "e1f7e30d-21db-4c0b-81ab-523f17716a67",
   "metadata": {},
   "source": [
    "# Library"
   ]
  },
  {
   "cell_type": "code",
   "execution_count": 2,
   "id": "6e6277e7-1415-4890-8784-0a0b324c71c4",
   "metadata": {},
   "outputs": [],
   "source": [
    "import numpy as np\n",
    "import matplotlib.pyplot as plt\n",
    "import random"
   ]
  },
  {
   "cell_type": "markdown",
   "id": "f74f1a27-de55-4add-9ad0-790243c926c6",
   "metadata": {},
   "source": [
    "# Data preparation"
   ]
  },
  {
   "cell_type": "code",
   "execution_count": 5,
   "id": "de6b310b-17b3-4da8-9034-25a8b8e55431",
   "metadata": {},
   "outputs": [],
   "source": [
    "def get_column(data, index):\n",
    "    \n",
    "    result = [row[index] for row in data]\n",
    "\n",
    "    return result\n",
    "\n",
    "def prepare_data(file_name_dataset):\n",
    "    data = np.genfromtxt(file_name_dataset, delimiter=',', skip_header=1).tolist()\n",
    "    N = len(data)\n",
    "\n",
    "    # get tv (index=0)\n",
    "    tv_data = get_column(data, 0)\n",
    "\n",
    "    # get radio (index=0)\n",
    "    radio_data = get_column(data, 1)\n",
    "\n",
    "    # get newspaper (index=0)\n",
    "    newspaper_data = get_column(data, 2)\n",
    "\n",
    "    # get sales (index=0)\n",
    "    sales_data = get_column(data, 3)\n",
    "\n",
    "    # building X input and y output for training\n",
    "    X = [tv_data, radio_data, newspaper_data]\n",
    "    y = sales_data\n",
    "    return X , y"
   ]
  },
  {
   "cell_type": "code",
   "execution_count": 7,
   "id": "ddce6214-e1b2-4c49-a0af-159f2acb0075",
   "metadata": {},
   "outputs": [],
   "source": [
    "X, y = prepare_data(\"advertising.csv\")"
   ]
  },
  {
   "cell_type": "markdown",
   "id": "1726e58e-7527-47b1-b176-3095cc0aa29a",
   "metadata": {},
   "source": [
    "# Linear regression"
   ]
  },
  {
   "cell_type": "code",
   "execution_count": 98,
   "id": "3cfddb6b-a6b2-451f-8dec-703c8a91644c",
   "metadata": {},
   "outputs": [],
   "source": [
    "def initialize_params():\n",
    "    w1 , w2 , w3 , b = (0.016992259082509283 , 0.0070783670518262355 , -0.002307860847821344 , 0)\n",
    "    return w1, w2, w3, b \n",
    "\n",
    "def predict(x1, x2, x3, w1, w2, w3, b):\n",
    "    result = x1 * w1 + x2 * w2 + x3 * w3 + b \n",
    "    return result\n",
    "\n",
    "def compute_loss_mse(y, y_hat):\n",
    "    return (y_hat - y) ** 2\n",
    "\n",
    "def compute_gradient_wi_mse(xi, y, y_hat):\n",
    "    return 2*xi*(y_hat - y)\n",
    "\n",
    "def compute_gradient_b_mse(y, y_hat):\n",
    "    return 2*(y_hat - y)\n",
    "\n",
    "def update_parameters(x, dx, lr):\n",
    "    return x - lr*dx"
   ]
  },
  {
   "cell_type": "code",
   "execution_count": 100,
   "id": "22e0e224-c20e-4a5f-b7c7-d4620d6649c4",
   "metadata": {},
   "outputs": [],
   "source": [
    "def implement_linear_regression_nsamples (X_data, y_data, epoch_max=50, lr=1e-5):\n",
    "    losses = []\n",
    "    \n",
    "    w1, w2, w3, b = initialize_params()\n",
    "    N = len(y_data)\n",
    "    \n",
    "    for epoch in range(epoch_max):\n",
    "        loss_total = 0.0\n",
    "        dw1_total = 0.0\n",
    "        dw2_total = 0.0\n",
    "        dw3_total = 0.0\n",
    "        db_total = 0.0\n",
    "        \n",
    "        for i in range(N):\n",
    "            x1 = X_data[0][i]\n",
    "            x2 = X_data[1][i]\n",
    "            x3 = X_data[2][i]\n",
    "            \n",
    "            y = y_data[i]\n",
    "            \n",
    "            y_hat = predict(x1, x2, x3, w1, w2, w3, b)\n",
    "            \n",
    "            loss = compute_loss_mse(y, y_hat)\n",
    "                        \n",
    "            loss_total += loss \n",
    "            \n",
    "            dl_dw1 = compute_gradient_wi_mse(x1, y, y_hat)\n",
    "            dl_dw2 = compute_gradient_wi_mse(x2, y, y_hat)\n",
    "            dl_dw3 = compute_gradient_wi_mse(x3, y, y_hat)\n",
    "            dl_db = compute_gradient_b_mse(y, y_hat)\n",
    "            \n",
    "            dw1_total += dl_dw1\n",
    "            dw2_total += dl_dw2 \n",
    "            dw3_total += dl_dw3 \n",
    "            db_total += dl_db\n",
    "        \n",
    "        w1 = update_parameters(w1, dw1_total/N, lr)\n",
    "        w2 = update_parameters(w2, dw2_total/N, lr)\n",
    "        w3 = update_parameters(w3, dw3_total/N, lr) \n",
    "        b = update_parameters(b, db_total/N, lr)\n",
    "        \n",
    "        losses.append(loss_total/N)\n",
    "        \n",
    "    return (w1, w2, w3, b, losses)"
   ]
  },
  {
   "cell_type": "code",
   "execution_count": 102,
   "id": "bb719eef-92ff-4f55-9ffd-014d56a02482",
   "metadata": {},
   "outputs": [],
   "source": [
    "def visualize_mse_linear_regression(losses):\n",
    "    plt.plot(losses)\n",
    "    plt.xlabel(\"#epoch\")\n",
    "    plt.ylabel(\"MSE Loss\")\n",
    "    plt.show()"
   ]
  },
  {
   "cell_type": "code",
   "execution_count": 104,
   "id": "3f85f883-ca67-407e-948e-3fec20084b40",
   "metadata": {},
   "outputs": [],
   "source": [
    "(w1, w2, w3, b, losses) = implement_linear_regression_nsamples(X, y, 1000)"
   ]
  },
  {
   "cell_type": "code",
   "execution_count": 106,
   "id": "abf94965-3af5-4c14-ac61-5f6bc5cc1ea2",
   "metadata": {},
   "outputs": [
    {
     "data": {
      "image/png": "[encoded data removed]",
      "text/plain": [
       "<Figure size 640x480 with 1 Axes>"
      ]
     },
     "metadata": {},
     "output_type": "display_data"
    }
   ],
   "source": [
    "visualize_mse_linear_regression(losses)"
   ]
  },
  {
   "cell_type": "code",
   "execution_count": 108,
   "id": "6e85cb1c-dc59-4029-ba92-f44267815c63",
   "metadata": {},
   "outputs": [
    {
     "name": "stdout",
     "output_type": "stream",
     "text": [
      "0.06710990754044266 0.15756173831487585 0.029619799386084403 0.015537523797089711\n"
     ]
    }
   ],
   "source": [
    "print(w1, w2, w3, b)"
   ]
  },
  {
   "cell_type": "markdown",
   "id": "21945b6e-5c61-462f-a138-e48ecbab5581",
   "metadata": {},
   "source": [
    "Q11: d) w1 = 0.0786 , w2 = 0.009 , w3 = 3.387e -06"
   ]
  }
 ],
 "metadata": {
  "kernelspec": {
   "display_name": "Python 3 (ipykernel)",
   "language": "python",
   "name": "python3"
  },
  "language_info": {
   "codemirror_mode": {
    "name": "ipython",
    "version": 3
   },
   "file_extension": ".py",
   "mimetype": "text/x-python",
   "name": "python",
   "nbconvert_exporter": "python",
   "pygments_lexer": "ipython3",
   "version": "3.12.4"
  }
 },
 "nbformat": 4,
 "nbformat_minor": 5
}
